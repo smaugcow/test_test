{
  "cells": [
    {
      "cell_type": "markdown",
      "metadata": {
        "id": "view-in-github",
        "colab_type": "text"
      },
      "source": [
        "<a href=\"https://colab.research.google.com/github/smaugcow/test_test/blob/main/lab2_byob.ipynb\" target=\"_parent\"><img src=\"https://colab.research.google.com/assets/colab-badge.svg\" alt=\"Open In Colab\"/></a>"
      ]
    },
    {
      "cell_type": "code",
      "execution_count": 1,
      "metadata": {
        "id": "gG7UR0lw2duU"
      },
      "outputs": [],
      "source": [
        "import torch\n",
        "import torch.nn as nn\n",
        "import torch.nn.functional as F\n",
        "import torchvision\n",
        "import torchvision.transforms as T\n",
        "from torch.utils.data import DataLoader\n",
        "from torchvision.models import resnet18\n",
        "from sklearn.neighbors import KNeighborsClassifier\n",
        "from sklearn.metrics import accuracy_score\n",
        "from sklearn.preprocessing import StandardScaler\n",
        "import matplotlib.pyplot as plt\n",
        "import numpy as np\n",
        "import random\n",
        "import logging"
      ]
    },
    {
      "cell_type": "code",
      "execution_count": 2,
      "metadata": {
        "id": "2hufcWYC2dsR"
      },
      "outputs": [],
      "source": [
        "SEED = 3236\n",
        "random.seed(SEED)\n",
        "np.random.seed(SEED)\n",
        "torch.manual_seed(SEED)\n",
        "torch.cuda.manual_seed_all(SEED)\n",
        "torch.backends.cudnn.deterministic = True\n",
        "torch.backends.cudnn.benchmark = False\n",
        "\n",
        "logging.basicConfig(format=\"[%(asctime)s] %(levelname)s: %(message)s\",\n",
        "                    datefmt=\"%H:%M:%S\", level=logging.INFO)\n",
        "\n",
        "device = torch.device(\"cuda\" if torch.cuda.is_available() else \"cpu\")"
      ]
    },
    {
      "cell_type": "code",
      "execution_count": 3,
      "metadata": {
        "id": "tXJMJK6J2dqU",
        "colab": {
          "base_uri": "https://localhost:8080/"
        },
        "outputId": "a4a6ec29-c07e-42c8-a869-3a5408da203b"
      },
      "outputs": [
        {
          "output_type": "stream",
          "name": "stderr",
          "text": [
            "100%|██████████| 170M/170M [00:03<00:00, 44.1MB/s]\n"
          ]
        }
      ],
      "source": [
        "class BYOLTransform:\n",
        "    def __init__(self):\n",
        "        self.augment = T.Compose([\n",
        "            T.RandomResizedCrop(32),\n",
        "            T.RandomHorizontalFlip(),\n",
        "            T.ColorJitter(0.4, 0.4, 0.4, 0.1),\n",
        "            T.RandomGrayscale(p=0.2),\n",
        "            T.ToTensor(),\n",
        "            T.Normalize((0.4914, 0.4822, 0.4465), (0.2470, 0.2435, 0.2616))\n",
        "        ])\n",
        "    def __call__(self, x):\n",
        "        return self.augment(x), self.augment(x)\n",
        "\n",
        "full_train_dataset = torchvision.datasets.CIFAR10(root='./data', train=True, download=True, transform=BYOLTransform())\n",
        "full_test_dataset = torchvision.datasets.CIFAR10(root='./data', train=False, download=True, transform=T.Compose([\n",
        "    T.ToTensor(),\n",
        "    T.Normalize((0.4914, 0.4822, 0.4465), (0.2470, 0.2435, 0.2616))\n",
        "]))\n",
        "\n",
        "train_loader = DataLoader(full_train_dataset, batch_size=256, shuffle=True, drop_last=True, worker_init_fn=lambda _: np.random.seed(SEED))\n",
        "test_loader = DataLoader(full_test_dataset, batch_size=256, shuffle=False, worker_init_fn=lambda _: np.random.seed(SEED))"
      ]
    },
    {
      "cell_type": "code",
      "execution_count": 4,
      "metadata": {
        "id": "wzXjXxeW2doH"
      },
      "outputs": [],
      "source": [
        "def get_encoder():\n",
        "    resnet = resnet18(weights=None)\n",
        "    resnet.fc = nn.Identity()\n",
        "    resnet.avgpool = nn.AdaptiveAvgPool2d((1, 1))\n",
        "    return nn.Sequential(resnet, nn.Flatten())\n",
        "\n",
        "dummy_encoder = get_encoder()\n",
        "dummy_encoder.eval()\n",
        "with torch.no_grad():\n",
        "    dummy_output = dummy_encoder(torch.randn(1, 3, 32, 32))\n",
        "feature_dim = dummy_output.shape[1]"
      ]
    },
    {
      "cell_type": "code",
      "execution_count": 5,
      "metadata": {
        "id": "-oFCs-OX2dmI"
      },
      "outputs": [],
      "source": [
        "class MLPHead(nn.Module):\n",
        "    def __init__(self, in_dim, out_dim):\n",
        "        super().__init__()\n",
        "        self.fc = nn.Sequential(\n",
        "            nn.Linear(in_dim, 512),\n",
        "            nn.BatchNorm1d(512),\n",
        "            nn.ReLU(),\n",
        "            nn.Linear(512, out_dim)\n",
        "        )\n",
        "    def forward(self, x):\n",
        "        return self.fc(x)"
      ]
    },
    {
      "cell_type": "code",
      "execution_count": 6,
      "metadata": {
        "id": "iOSwUYlG2dhl"
      },
      "outputs": [],
      "source": [
        "class BYOL(nn.Module):\n",
        "    def __init__(self, base_encoder, feature_dim, projection_dim=256, ema_decay=0.99):\n",
        "        super().__init__()\n",
        "        self.online_encoder = base_encoder()\n",
        "        self.online_projector = MLPHead(feature_dim, projection_dim)\n",
        "        self.online_predictor = MLPHead(projection_dim, projection_dim)\n",
        "        self.target_encoder = base_encoder()\n",
        "        self.target_projector = MLPHead(feature_dim, projection_dim)\n",
        "        self.ema_decay = ema_decay\n",
        "        self._update_target(0)\n",
        "\n",
        "    def forward(self, x1, x2):\n",
        "        z1_online = self.online_projector(self.online_encoder(x1))\n",
        "        z2_online = self.online_projector(self.online_encoder(x2))\n",
        "        p1 = self.online_predictor(z1_online)\n",
        "        p2 = self.online_predictor(z2_online)\n",
        "        with torch.no_grad():\n",
        "            z1_target = self.target_projector(self.target_encoder(x1)).detach()\n",
        "            z2_target = self.target_projector(self.target_encoder(x2)).detach()\n",
        "        return p1, p2, z1_target, z2_target\n",
        "\n",
        "    def loss_fn(self, x, y):\n",
        "        x = F.normalize(x, dim=-1)\n",
        "        y = F.normalize(y, dim=-1)\n",
        "        return 2 - 2 * (x * y).sum(dim=-1).mean()\n",
        "\n",
        "    def training_step(self, x1, x2):\n",
        "        p1, p2, z1, z2 = self(x1, x2)\n",
        "        return self.loss_fn(p1, z2) + self.loss_fn(p2, z1)\n",
        "\n",
        "    def _update_target(self, decay=None):\n",
        "        if decay is None:\n",
        "            decay = self.ema_decay\n",
        "        for t, o in zip(self.target_encoder.parameters(), self.online_encoder.parameters()):\n",
        "            t.data = decay * t.data + (1 - decay) * o.data\n",
        "        for t, o in zip(self.target_projector.parameters(), self.online_projector.parameters()):\n",
        "            t.data = decay * t.data + (1 - decay) * o.data"
      ]
    },
    {
      "cell_type": "code",
      "execution_count": 7,
      "metadata": {
        "id": "Ho26gR1n3Awc"
      },
      "outputs": [],
      "source": [
        "def extract_features(encoder, loader):\n",
        "    encoder.eval()\n",
        "    features, labels = [], []\n",
        "    with torch.no_grad():\n",
        "        for x, y in loader:\n",
        "            if isinstance(x, (list, tuple)):\n",
        "                x = x[0]\n",
        "            x = x.to(device)\n",
        "            f = encoder(x).cpu().numpy()\n",
        "            features.append(f)\n",
        "            labels.append(y.numpy())\n",
        "    return np.vstack(features), np.hstack(labels)\n",
        "\n",
        "def flatten_images(loader):\n",
        "    all_x, all_y = [], []\n",
        "    for x, y in loader:\n",
        "        if isinstance(x, (list, tuple)):\n",
        "            x = x[0]\n",
        "        all_x.append(x.view(x.size(0), -1).numpy())\n",
        "        all_y.append(y.numpy())\n",
        "    return np.vstack(all_x), np.hstack(all_y)"
      ]
    },
    {
      "cell_type": "code",
      "execution_count": 8,
      "metadata": {
        "id": "zi_wjvYA3H7f"
      },
      "outputs": [],
      "source": [
        "logging.info(\"Подготовка baseline (сырые пиксели)...\")\n",
        "raw_train_x, raw_train_y = flatten_images(train_loader)\n",
        "raw_test_x, raw_test_y = flatten_images(test_loader)\n",
        "\n",
        "model = BYOL(get_encoder, feature_dim=feature_dim).to(device)\n",
        "optimizer = torch.optim.Adam(model.parameters(), lr=1e-3, weight_decay=1e-4)\n",
        "epochs = 30\n",
        "scheduler = torch.optim.lr_scheduler.CosineAnnealingLR(optimizer, T_max=epochs)\n",
        "\n",
        "byol_losses = []"
      ]
    },
    {
      "cell_type": "code",
      "execution_count": 9,
      "metadata": {
        "id": "UKLd3Yht3H5l"
      },
      "outputs": [],
      "source": [
        "for epoch in range(epochs):\n",
        "    model.train()\n",
        "    total_loss = 0\n",
        "    for (x1, x2), _ in train_loader:\n",
        "        x1, x2 = x1.to(device), x2.to(device)\n",
        "        loss = model.training_step(x1, x2)\n",
        "        optimizer.zero_grad()\n",
        "        loss.backward()\n",
        "        optimizer.step()\n",
        "        model._update_target()\n",
        "        total_loss += loss.item()\n",
        "    scheduler.step()\n",
        "    avg_loss = total_loss / len(train_loader)\n",
        "    byol_losses.append(avg_loss)\n",
        "    logging.info(f\"Epoch {epoch+1}/{epochs} — BYOL Loss: {avg_loss:.4f}\")"
      ]
    },
    {
      "cell_type": "code",
      "execution_count": 10,
      "metadata": {
        "id": "W89AHXjH3H3f",
        "colab": {
          "base_uri": "https://localhost:8080/",
          "height": 797
        },
        "outputId": "fe9f812d-c5d8-43b2-fc64-f16c740510ba"
      },
      "outputs": [
        {
          "output_type": "display_data",
          "data": {
            "text/plain": [
              "<Figure size 600x400 with 1 Axes>"
            ],
            "image/png": "[encoded data removed]"
          },
          "metadata": {}
        },
        {
          "output_type": "display_data",
          "data": {
            "text/plain": [
              "<Figure size 600x400 with 1 Axes>"
            ],
            "image/png": "[encoded data removed]"
          },
          "metadata": {}
        }
      ],
      "source": [
        "plt.figure(figsize=(6, 4))\n",
        "plt.plot(range(1, epochs+1), byol_losses, marker=\"o\")\n",
        "plt.title(\"BYOL training loss dynamics\")\n",
        "plt.xlabel(\"Epoch\")\n",
        "plt.ylabel(\"Loss\")\n",
        "plt.grid(True)\n",
        "plt.tight_layout()\n",
        "plt.show()\n",
        "\n",
        "logging.info(\"Извлечение признаков и KNN классификация...\")\n",
        "feats_train, lbls_train = extract_features(model.online_encoder, train_loader)\n",
        "feats_test, lbls_test = extract_features(model.online_encoder, test_loader)\n",
        "\n",
        "scaler_feat = StandardScaler()\n",
        "feats_train_scaled = scaler_feat.fit_transform(feats_train)\n",
        "feats_test_scaled = scaler_feat.transform(feats_test)\n",
        "\n",
        "knn_feat = KNeighborsClassifier(n_neighbors=5)\n",
        "knn_feat.fit(feats_train_scaled, lbls_train)\n",
        "preds_feat = knn_feat.predict(feats_test_scaled)\n",
        "acc_feat = accuracy_score(lbls_test, preds_feat)\n",
        "logging.info(f\"KNN по признакам BYOL: Accuracy = {acc_feat:.4f}\")\n",
        "\n",
        "scaler_raw = StandardScaler()\n",
        "raw_train_scaled = scaler_raw.fit_transform(raw_train_x)\n",
        "raw_test_scaled = scaler_raw.transform(raw_test_x)\n",
        "\n",
        "knn_raw = KNeighborsClassifier(n_neighbors=5)\n",
        "knn_raw.fit(raw_train_scaled, raw_train_y)\n",
        "preds_raw = knn_raw.predict(raw_test_scaled)\n",
        "acc_raw = accuracy_score(raw_test_y, preds_raw)\n",
        "logging.info(f\"KNN по пикселям: Accuracy = {acc_raw:.4f}\")\n",
        "\n",
        "plt.figure(figsize=(6, 4))\n",
        "methods = ['BYOL Features', 'Raw Pixels']\n",
        "accuracies = [acc_feat, acc_raw]\n",
        "colors = ['green', 'red']\n",
        "\n",
        "plt.bar(methods, accuracies, color=colors)\n",
        "plt.title('KNN Accuracy Comparison')\n",
        "plt.ylabel('Accuracy')\n",
        "plt.ylim(0, 1)\n",
        "for i, acc in enumerate(accuracies):\n",
        "    plt.text(i, acc + 0.02, f\"{acc:.2f}\", ha='center')\n",
        "plt.grid(axis='y')\n",
        "plt.tight_layout()\n",
        "plt.show()"
      ]
    }
  ],
  "metadata": {
    "accelerator": "GPU",
    "colab": {
      "gpuType": "T4",
      "provenance": [],
      "authorship_tag": "ABX9TyOzp6X4PPIzQIyetxw+vSFo",
      "include_colab_link": true
    },
    "kernelspec": {
      "display_name": "Python 3",
      "name": "python3"
    },
    "language_info": {
      "name": "python"
    }
  },
  "nbformat": 4,
  "nbformat_minor": 0
}